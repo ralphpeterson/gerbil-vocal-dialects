{
 "cells": [
  {
   "cell_type": "code",
   "execution_count": 1,
   "id": "6c33f4d4",
   "metadata": {},
   "outputs": [],
   "source": [
    "import pandas as pd\n",
    "import numpy as np\n",
    "import seaborn as sns\n",
    "from matplotlib.pyplot import *\n",
    "from sklearn.mixture import GaussianMixture\n",
    "from sklearn.model_selection import train_test_split\n",
    "\n",
    "%matplotlib inline"
   ]
  },
  {
   "cell_type": "code",
   "execution_count": 2,
   "id": "5925cfff",
   "metadata": {},
   "outputs": [],
   "source": [
    "sns.set_style('white')\n",
    "sns.set_style('ticks')\n",
    "sns.set_context('talk')"
   ]
  },
  {
   "cell_type": "code",
   "execution_count": 3,
   "id": "feeb2ae5",
   "metadata": {},
   "outputs": [],
   "source": [
    "df = pd.read_feather('vocalization_df.feather')\n",
    "\n",
    "df_c2 = df[df.cohort == 'c2']\n",
    "df_c4 = df[df.cohort == 'c4']\n",
    "df_c5 = df[df.cohort == 'c5']\n",
    "\n",
    "c2_latents = np.vstack(df_c2.latent_means.values)\n",
    "c4_latents = np.vstack(df_c4.latent_means.values)\n",
    "c5_latents = np.vstack(df_c5.latent_means.values)\n",
    "\n",
    "all_latents = np.concatenate((c2_latents, c4_latents, c5_latents))"
   ]
  },
  {
   "cell_type": "code",
   "execution_count": null,
   "id": "ed325b1f",
   "metadata": {},
   "outputs": [],
   "source": [
    "train, test = train_test_split(all_latents, test_size=.25, train_size=.75)\n",
    "data = train\n",
    "\n",
    "# Create a list to store the log-likelihoods\n",
    "log_likelihoods = []\n",
    "\n",
    "# Create a list of values for the number of components\n",
    "n_components = np.insert(np.arange(10, 201, 10), 0, 1)\n",
    "\n",
    "# Loop over the number of components\n",
    "for n in n_components:\n",
    "    # Initialize the GMM model\n",
    "    gmm = GaussianMixture(n_components=n, covariance_type='diag')\n",
    "    # Train the GMM model on your data\n",
    "    gmm.fit(data)\n",
    "    # Store the log-likelihood of the data given the model\n",
    "    log_likelihoods.append(gmm.score(test))"
   ]
  },
  {
   "cell_type": "code",
   "execution_count": null,
   "id": "f7ed9aa0",
   "metadata": {},
   "outputs": [],
   "source": [
    "plot(n_components, log_likelihoods, 'k')\n",
    "xlabel('Number of components')\n",
    "ylabel('Log-likelihood')"
   ]
  },
  {
   "cell_type": "code",
   "execution_count": 6,
   "id": "3ab4d84a",
   "metadata": {},
   "outputs": [],
   "source": [
    "#pick a k, then train final model\n",
    "n=70\n",
    "gmm = GaussianMixture(n_components=n, covariance_type='diag')\n",
    "data = all_latents[:, all_latents.std(0) > .75] #model the latents that account for most of the variance \n",
    "gmm.fit(data)\n",
    "\n",
    "#get the labels\n",
    "labels = gmm.predict(data)\n",
    "\n",
    "#save labels to dataframe\n",
    "df['z_70'] = labels"
   ]
  },
  {
   "cell_type": "code",
   "execution_count": null,
   "id": "9f20abf7",
   "metadata": {},
   "outputs": [],
   "source": []
  },
  {
   "cell_type": "code",
   "execution_count": null,
   "id": "3f82b0a1",
   "metadata": {},
   "outputs": [],
   "source": [
    "df_c2 = df[df.cohort=='c2']\n",
    "df_c4 = df[df.cohort=='c4']\n",
    "df_c5 = df[df.cohort=='c5']\n",
    "\n",
    "z = df.groupby('z_70')['timestamp'].count().values\n",
    "reorder = np.argsort(z)[::-1]\n",
    "\n",
    "\n",
    "z_c2 = df_c2.groupby('z_70')['timestamp'].count().values[reorder]\n",
    "z_c4 = df_c4.groupby('z_70')['timestamp'].count().values[reorder]\n",
    "z_c5 = df_c5.groupby('z_70')['timestamp'].count().values[reorder]\n",
    "\n",
    "z_c2_prop = z_c2/sum(z_c2)\n",
    "z_c4_prop = z_c4/sum(z_c4)\n",
    "z_c5_prop = z_c5/sum(z_c5)\n",
    "\n",
    "z_all_prop = np.array([z_c2_prop, z_c4_prop, z_c5_prop])"
   ]
  },
  {
   "cell_type": "code",
   "execution_count": null,
   "id": "6f19db7e",
   "metadata": {},
   "outputs": [],
   "source": [
    "figure(figsize=(14,3))\n",
    "\n",
    "plot(z[reorder]/sum(z[reorder]), 'k', label='Cumulative')\n",
    "plot(z_c2_prop, label='C2')\n",
    "plot(z_c4_prop, label='C4')\n",
    "plot(z_c5_prop, label='C5')\n",
    "\n",
    "ylabel('Proportion usage')\n",
    "xlabel('GMM Cluster (Sorted by cumulative usage)')\n",
    "\n",
    "legend(bbox_to_anchor=(1,1))\n",
    "sns.despine()\n",
    "tight_layout()\n",
    "# savefig('/Users/ralph/Downloads/gmm_usage.svg')"
   ]
  },
  {
   "cell_type": "code",
   "execution_count": null,
   "id": "f0668279",
   "metadata": {},
   "outputs": [],
   "source": [
    "figure(figsize=(18,12))\n",
    "\n",
    "_fontsize=12\n",
    "\n",
    "subplot(4,1,1)\n",
    "plot(z[reorder]/sum(z[reorder]), 'k', label='Cumulative')\n",
    "plot(z_c2_prop, label='C2')\n",
    "plot(z_c4_prop, label='C4')\n",
    "plot(z_c5_prop, label='C5')\n",
    "\n",
    "ylabel('Proportion usage')\n",
    "xlabel('GMM Cluster (Sorted by cumulative usage)')\n",
    "xticks(np.arange(len(z_c2_prop)), fontsize=_fontsize, rotation=45)\n",
    "legend(bbox_to_anchor=(1,1))\n",
    "sns.despine()\n",
    "\n",
    "subplot(4,1,2)\n",
    "plot(z_c2_prop[z2z4_diff], label='C2', c='C0')\n",
    "plot(z_c4_prop[z2z4_diff], label='C4', c='C1')\n",
    "legend(bbox_to_anchor=(1,1))\n",
    "xticks(np.arange(len(z_c2_prop)), z2z4_diff, rotation=45, fontsize=_fontsize)\n",
    "ylabel('Proportion usage')\n",
    "xlabel('GMM Cluster (Sorted by usage difference)')\n",
    "\n",
    "subplot(4,1,3)\n",
    "plot(z_c2_prop[z2z5_diff], label='C2', c='C0')\n",
    "plot(z_c5_prop[z2z5_diff], label='C5', c='C2')\n",
    "legend(bbox_to_anchor=(1,1))\n",
    "xticks(np.arange(len(z_c2_prop)), z2z5_diff, rotation=45, fontsize=_fontsize)\n",
    "\n",
    "subplot(4,1,4)\n",
    "plot(z_c4_prop[z4z5_diff], label='C4', c='C1')\n",
    "plot(z_c5_prop[z4z5_diff], label='C5', c='C2')\n",
    "legend(bbox_to_anchor=(1,1))\n",
    "xticks(np.arange(len(z_c2_prop)), z4z5_diff, rotation=45, fontsize=_fontsize)\n",
    "\n",
    "sns.despine()\n",
    "tight_layout()\n",
    "# savefig('usages-sklearn.svg')"
   ]
  },
  {
   "cell_type": "code",
   "execution_count": null,
   "id": "f31e7eb6",
   "metadata": {},
   "outputs": [],
   "source": []
  }
 ],
 "metadata": {
  "kernelspec": {
   "display_name": "Python [conda env:root] *",
   "language": "python",
   "name": "conda-root-py"
  },
  "language_info": {
   "codemirror_mode": {
    "name": "ipython",
    "version": 3
   },
   "file_extension": ".py",
   "mimetype": "text/x-python",
   "name": "python",
   "nbconvert_exporter": "python",
   "pygments_lexer": "ipython3",
   "version": "3.9.12"
  }
 },
 "nbformat": 4,
 "nbformat_minor": 5
}

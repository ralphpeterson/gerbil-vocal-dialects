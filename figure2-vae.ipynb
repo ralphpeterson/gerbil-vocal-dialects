{
 "cells": [
  {
   "cell_type": "code",
   "execution_count": null,
   "id": "12302689",
   "metadata": {},
   "outputs": [],
   "source": [
    "import sys\n",
    "sys.path.append('C:\\\\Users\\\\ralph\\\\code\\\\autoencoded-vocal-analysis')"
   ]
  },
  {
   "cell_type": "markdown",
   "id": "e69b1520",
   "metadata": {},
   "source": [
    "# preprocessing "
   ]
  },
  {
   "cell_type": "code",
   "execution_count": null,
   "id": "4117ea09",
   "metadata": {},
   "outputs": [],
   "source": [
    "from ava.preprocessing.utils import get_spec # makes spectrograms\n",
    "from ava.models.vae import X_SHAPE # spectrogram dimensions\n",
    "\n",
    "preprocess_params = {\n",
    "    'get_spec': get_spec, # spectrogram maker\n",
    "    'max_dur': 0.3, # maximum syllable duration\n",
    "    'min_freq': 500, # minimum frequency\n",
    "    'max_freq': 62500, # maximum frequency\n",
    "    'num_freq_bins': X_SHAPE[0], # hard-coded\n",
    "    'num_time_bins': X_SHAPE[1], # hard-coded\n",
    "    'nperseg': 512, # FFT\n",
    "    'noverlap': 256, # FFT\n",
    "    'spec_min_val': -8, # minimum log-spectrogram value\n",
    "    'spec_max_val': -5, # maximum log-spectrogram value\n",
    "    'fs': 125000, # audio samplerate\n",
    "    'mel': False, # frequency spacing, mel or linear\n",
    "    'time_stretch': True, # stretch short syllables?\n",
    "    'within_syll_normalize': False, # normalize spectrogram values on a\n",
    "                                    # spectrogram-by-spectrogram basis\n",
    "    'max_num_syllables': None, # maximum number of syllables per directory\n",
    "    'sylls_per_file': 100, # syllable per file\n",
    "    'real_preprocess_params': ('min_freq', 'max_freq', 'spec_min_val', \\\n",
    "            'spec_max_val', 'max_dur'), # tunable parameters\n",
    "    'int_preprocess_params': ('nperseg','noverlap'), # tunable parameters\n",
    "    'binary_preprocess_params': ('time_stretch', 'mel', \\\n",
    "            'within_syll_normalize'), # tunable parameters\n",
    "}"
   ]
  },
  {
   "cell_type": "code",
   "execution_count": null,
   "id": "773728b6",
   "metadata": {},
   "outputs": [],
   "source": [
    "from ava.preprocessing.preprocess import tune_syll_preprocessing_params\n",
    "audio_dirs = ['cohort2_combined_audio',\n",
    "              'cohort4_combined_audio',\n",
    "              'cohort5_combined_audio'] # directories containing audio\n",
    "\n",
    "seg_dirs = ['cohort2_segments',\n",
    "            'cohort4_segments',\n",
    "            'cohort5_segments']\n",
    "\n",
    "preprocess_params = tune_syll_preprocessing_params(audio_dirs, seg_dirs, \\\n",
    "                preprocess_params)"
   ]
  },
  {
   "cell_type": "code",
   "execution_count": null,
   "id": "372dad4c",
   "metadata": {},
   "outputs": [],
   "source": [
    "spec_dirs = ['cohort2_specs',\n",
    "             'cohort4_specs',\n",
    "             'cohort5_specs']\n",
    "    \n",
    "from ava.preprocessing.preprocess import process_sylls\n",
    "from joblib import Parallel, delayed\n",
    "from itertools import repeat\n",
    "\n",
    "gen = zip(audio_dirs, seg_dirs, spec_dirs, repeat(preprocess_params))\n",
    "Parallel(n_jobs=-1)(delayed(process_sylls)(*args) for args in gen)"
   ]
  },
  {
   "cell_type": "markdown",
   "id": "24b60563",
   "metadata": {},
   "source": [
    "# train VAE "
   ]
  },
  {
   "cell_type": "code",
   "execution_count": null,
   "id": "bc1643df",
   "metadata": {},
   "outputs": [],
   "source": [
    "from ava.models.vae_dataset import get_syllable_partition\n",
    "from ava.models.vae_dataset import get_syllable_data_loaders\n",
    "from ava.models.vae import VAE"
   ]
  },
  {
   "cell_type": "code",
   "execution_count": null,
   "id": "cc588f27",
   "metadata": {},
   "outputs": [],
   "source": [
    "# Directories containing saved spectrograms (hdf5s)\n",
    "# Define directories.\n",
    "spec_dirs = ['cohort2_specs',\n",
    "             'cohort4_specs',\n",
    "             'cohort5_specs']\n",
    "\n",
    "split = 0.8 # 80/20 train/test split\n",
    "\n",
    "# Construct a random train/test partition.\n",
    "from ava.models.vae_dataset import get_syllable_partition\n",
    "partition = get_syllable_partition(spec_dirs, split)\n",
    "\n",
    "# Make Dataloaders.\n",
    "from ava.models.vae_dataset import get_syllable_data_loaders\n",
    "loaders = get_syllable_data_loaders(partition )"
   ]
  },
  {
   "cell_type": "code",
   "execution_count": null,
   "id": "7e15cfb4",
   "metadata": {},
   "outputs": [],
   "source": [
    "# Construct network.\n",
    "from ava.models.vae import VAE\n",
    "save_dir = 'models'\n",
    "model = VAE(save_dir=save_dir, model_precision=40.0)\n",
    "\n",
    "# Train.\n",
    "model.train_loop(loaders, epochs=51, save_freq=5)"
   ]
  }
 ],
 "metadata": {
  "kernelspec": {
   "display_name": "Python [conda env:root] *",
   "language": "python",
   "name": "conda-root-py"
  },
  "language_info": {
   "codemirror_mode": {
    "name": "ipython",
    "version": 3
   },
   "file_extension": ".py",
   "mimetype": "text/x-python",
   "name": "python",
   "nbconvert_exporter": "python",
   "pygments_lexer": "ipython3",
   "version": "3.9.12"
  }
 },
 "nbformat": 4,
 "nbformat_minor": 5
}

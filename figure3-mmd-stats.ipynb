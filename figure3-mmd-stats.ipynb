{
 "cells": [
  {
   "cell_type": "code",
   "execution_count": 2,
   "id": "7e78ff44",
   "metadata": {},
   "outputs": [],
   "source": [
    "from scipy.spatial.distance import cdist, pdist\n",
    "import pandas as pd\n",
    "import seaborn as sns\n",
    "import numpy as np\n",
    "import os\n",
    "from matplotlib.pyplot import *\n",
    "\n",
    "def mmd(X, Y, sigma_sq=None):\n",
    "    \"\"\"\n",
    "    Implements Gretton's test for equality of\n",
    "    distributions in high-dimensional settings\n",
    "    using concentration bounds on the maximum\n",
    "    mean discrepancy (MMD). This function uses\n",
    "    the unbiased estimator of the MMD (see\n",
    "    Lemma 6, Gretton et al., 2012) and upper\n",
    "    bounds the p-value using a Hoeffding\n",
    "    large-deviation bound (see Theorem 10,\n",
    "    Gretton et al., 2012).\n",
    "\n",
    "    The test considers two sets of observed\n",
    "    datapoints, X and Y, which are assumed to\n",
    "    be drawn i.i.d. from underlying probability\n",
    "    distributions P and Q. The null hypothesis\n",
    "    is that P = Q.\n",
    "\n",
    "    Note that this function assumes that the number\n",
    "    of samples from each distribution are equal.\n",
    "\n",
    "    Reference\n",
    "    ---------\n",
    "    Gretton et al. (2012). A Kernel Two-Sample Test.\n",
    "    Journal of Machine Learning Research 13: 723-773.\n",
    "\n",
    "    Parameters\n",
    "    ----------\n",
    "    X : ndarray (num_samples x num_features)\n",
    "        First set of observed samples, assumed to be\n",
    "        drawn from some unknown distribution P.\n",
    "\n",
    "    Y : ndarray (num_samples x num_features)\n",
    "        Second set of observed samples, assumed to be\n",
    "        drawn from some unknown distribution Q.\n",
    "    \n",
    "    sigma_sq: float, optional\n",
    "        Kernel bandwidth parameter. If not provided,\n",
    "        it is set to the median distance between samples.\n",
    "\n",
    "    Returns\n",
    "    -------\n",
    "    mmd : float\n",
    "        MMD Distance\n",
    "    \"\"\"\n",
    "\n",
    "    assert X.shape == Y.shape\n",
    "    m = X.shape[0]\n",
    "\n",
    "    # Compute pairwise distances\n",
    "    xd = pdist(X, metric=\"euclidean\")\n",
    "    yd = pdist(Y, metric=\"euclidean\")\n",
    "    xyd = cdist(X, Y, metric=\"euclidean\").ravel()\n",
    "    \n",
    "    if sigma_sq is None:\n",
    "        # Set kernel bandwidth (Gretton et al. suggest to use\n",
    "        # the median distance).\n",
    "        sigma_sq = np.median(\n",
    "            np.concatenate((xd, yd, xyd))\n",
    "        ) ** 2\n",
    "\n",
    "    # Compute unbiased MMD distance.\n",
    "    kxx = np.mean(np.exp(-(xd**2) / (2 * sigma_sq)))\n",
    "    kyy = np.mean(np.exp(-(yd**2) / (2 * sigma_sq)))\n",
    "    kxy = np.mean(np.exp(-(xyd**2) / (2 * sigma_sq)))\n",
    "    mmd_obs = kxx + kyy - 2 * kxy\n",
    "\n",
    "    return mmd_obs\n",
    "\n",
    "def get_mmd_sigma_sq(X, Y):\n",
    "    assert X.shape == Y.shape\n",
    "    m = X.shape[0]\n",
    "    # Compute pairwise distances\n",
    "    xd = pdist(X, metric=\"euclidean\")\n",
    "    yd = pdist(Y, metric=\"euclidean\")\n",
    "    xyd = cdist(X, Y, metric=\"euclidean\").ravel()\n",
    "\n",
    "    # Set kernel bandwidth (Gretton et al. suggest to use\n",
    "    # the median distance).\n",
    "    sigma_sq = np.median(\n",
    "        np.concatenate((xd, yd, xyd))\n",
    "    ) ** 2\n",
    "    \n",
    "    return sigma_sq\n",
    "\n",
    "def permutation_test_mmd(X, Y, n_samples=1000, n_iters=1000):\n",
    "    \n",
    "    mmds = []\n",
    "    for i in range(n_iters):\n",
    "        #generate random indicies\n",
    "        x_rand_idx = np.random.choice(np.arange(len(X)), size=n_samples, replace=False)\n",
    "        y_rand_idx = np.random.choice(np.arange(len(Y)), size=n_samples, replace=False)\n",
    "        \n",
    "        #randomly sample data\n",
    "        x_rand = X[x_rand_idx]\n",
    "        y_rand = Y[y_rand_idx]    \n",
    "        \n",
    "        working_mmd = mmd(x_rand, y_rand, sigma_sq=13.65)\n",
    "        mmds.append(working_mmd)\n",
    "    \n",
    "    return np.array(mmds)\n",
    "\n",
    "%matplotlib inline"
   ]
  },
  {
   "cell_type": "code",
   "execution_count": 3,
   "id": "ecd0e88d",
   "metadata": {},
   "outputs": [],
   "source": [
    "sns.set_style('white')\n",
    "sns.set_style('ticks')\n",
    "sns.set_context('talk')"
   ]
  },
  {
   "cell_type": "code",
   "execution_count": 5,
   "id": "832ed295",
   "metadata": {},
   "outputs": [],
   "source": [
    "df = pd.read_feather('vocalization_df.feather')\n",
    "\n",
    "df_c2 = df[df.cohort=='c2']\n",
    "df_c4 = df[df.cohort=='c4']\n",
    "df_c5 = df[df.cohort=='c5']\n",
    "\n",
    "c2_latents = np.vstack(df_c2.latent_means.values)\n",
    "c4_latents = np.vstack(df_c4.latent_means.values)\n",
    "c5_latents = np.vstack(df_c5.latent_means.values)\n",
    "\n",
    "all_latents = np.concatenate((c2_latents, c4_latents, c5_latents))"
   ]
  },
  {
   "cell_type": "code",
   "execution_count": null,
   "id": "986e43a8",
   "metadata": {},
   "outputs": [],
   "source": []
  },
  {
   "cell_type": "code",
   "execution_count": 6,
   "id": "e55f881b",
   "metadata": {},
   "outputs": [],
   "source": [
    "shuffle_mmd = permutation_test_mmd(all_latents, all_latents, n_iters = 1000)\n",
    "c2_c4_mmd = permutation_test_mmd(c2_latents, c4_latents, n_iters = 1000)\n",
    "c2_c5_mmd = permutation_test_mmd(c2_latents, c5_latents, n_iters = 1000)\n",
    "c4_c5_mmd = permutation_test_mmd(c4_latents, c5_latents, n_iters = 1000)"
   ]
  },
  {
   "cell_type": "code",
   "execution_count": 7,
   "id": "16494a6e",
   "metadata": {},
   "outputs": [
    {
     "data": {
      "image/png": "[encoded data removed]",
      "text/plain": [
       "<Figure size 288x288 with 1 Axes>"
      ]
     },
     "metadata": {},
     "output_type": "display_data"
    }
   ],
   "source": [
    "figure(figsize=(4,4))\n",
    "\n",
    "_bins = 20\n",
    "hist(shuffle_mmd, histtype='step', bins=_bins, label='Shuffle')\n",
    "\n",
    "hist(c2_c4_mmd, histtype='step', bins=_bins, label='Family 1 vs. Family 2')\n",
    "hist(c2_c5_mmd, histtype='step', bins=_bins, label='Family 1 vs. Family 3')\n",
    "hist(c4_c5_mmd, histtype='step', bins=_bins, label='Family 2 vs. Family 3')\n",
    "legend(bbox_to_anchor=(1,1))\n",
    "xlabel('MMD Distance')\n",
    "ylabel('Counts')\n",
    "sns.despine();\n",
    "# savefig('mmd_distance.svg', dpi=300)"
   ]
  },
  {
   "cell_type": "code",
   "execution_count": 8,
   "id": "6b23f109",
   "metadata": {},
   "outputs": [
    {
     "name": "stdout",
     "output_type": "stream",
     "text": [
      "Ttest_indResult(statistic=-212.62560321226508, pvalue=0.0)\n",
      "Ttest_indResult(statistic=-251.6347167517595, pvalue=0.0)\n",
      "Ttest_indResult(statistic=-321.3126580974118, pvalue=0.0)\n"
     ]
    }
   ],
   "source": [
    "from scipy.stats import ttest_ind\n",
    "print(ttest_ind(shuffle_mmd, c2_c4_mmd, equal_var=False))\n",
    "print(ttest_ind(shuffle_mmd, c2_c5_mmd, equal_var=False))\n",
    "print(ttest_ind(shuffle_mmd, c4_c5_mmd, equal_var=False))"
   ]
  },
  {
   "cell_type": "code",
   "execution_count": null,
   "id": "cd36b825",
   "metadata": {},
   "outputs": [],
   "source": []
  }
 ],
 "metadata": {
  "kernelspec": {
   "display_name": "Python [conda env:root] *",
   "language": "python",
   "name": "conda-root-py"
  },
  "language_info": {
   "codemirror_mode": {
    "name": "ipython",
    "version": 3
   },
   "file_extension": ".py",
   "mimetype": "text/x-python",
   "name": "python",
   "nbconvert_exporter": "python",
   "pygments_lexer": "ipython3",
   "version": "3.9.12"
  }
 },
 "nbformat": 4,
 "nbformat_minor": 5
}
